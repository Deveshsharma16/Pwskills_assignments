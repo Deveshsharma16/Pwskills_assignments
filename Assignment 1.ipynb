{
 "cells": [
  {
   "cell_type": "markdown",
   "id": "5f3d678a-547a-487a-8e55-7aac40d061a8",
   "metadata": {},
   "source": [
    "Question 1"
   ]
  },
  {
   "cell_type": "code",
   "execution_count": 8,
   "id": "9b13daa1-f38f-463a-ad9f-97bd67fc0c51",
   "metadata": {},
   "outputs": [
    {
     "name": "stdout",
     "output_type": "stream",
     "text": [
      "1\n",
      "2\n",
      "3\n"
     ]
    }
   ],
   "source": [
    "\"\"\"For loop: A for loop is a control flow statement that executes code repeatedly for a particular number of iterations.\n",
    "In this control flow statement, the keyword used is for. The for loop is used when the number of iterations is already \n",
    "known.\"\"\"\n",
    "n = [1, 2, 3]  # Initialization\n",
    "for i in n:  # Condition and Updation\n",
    "    print(i)"
   ]
  },
  {
   "cell_type": "code",
   "execution_count": 9,
   "id": "cdd9b556-a6d2-49c4-b879-27fb1bdb3756",
   "metadata": {},
   "outputs": [
    {
     "name": "stdout",
     "output_type": "stream",
     "text": [
      "1\n",
      "2\n",
      "3\n",
      "4\n",
      "5\n"
     ]
    }
   ],
   "source": [
    "\"\"\"While loop: A loop that executes a single statement or a group of statements for the given true condition. The keyword\n",
    "used to represent this loop is \"while\". A \"while\" loop is used when the number of iterations is unknown. The statement \n",
    "repeats itself till the boolean value becomes false. In a while loop, the condition is tested at the start.\"\"\"\n",
    "i = 1  # Initialization\n",
    "while i < 6:  # Condition\n",
    "    print(i)\n",
    "    i += 1  # Updation"
   ]
  },
  {
   "cell_type": "markdown",
   "id": "63bb62a9-0f08-427d-9b68-0784d7136b86",
   "metadata": {},
   "source": [
    "Question 2"
   ]
  },
  {
   "cell_type": "code",
   "execution_count": 40,
   "id": "afdabe34-2d6a-4ba1-aa9d-cc1d46917275",
   "metadata": {},
   "outputs": [
    {
     "name": "stdout",
     "output_type": "stream",
     "text": [
      "55\n"
     ]
    }
   ],
   "source": [
    "s = range(1,11)\n",
    "add1 = 0\n",
    "for i in s:\n",
    "    add1 = add1 + i\n",
    "print(add1)    "
   ]
  },
  {
   "cell_type": "code",
   "execution_count": 25,
   "id": "3888ae86-2251-4685-b72a-ead380ea3a8b",
   "metadata": {},
   "outputs": [
    {
     "name": "stdout",
     "output_type": "stream",
     "text": [
      "3628800\n"
     ]
    }
   ],
   "source": [
    "product1 = 1\n",
    "for i in s:\n",
    "    product1 = product1 * i\n",
    "print(product1)    "
   ]
  },
  {
   "cell_type": "code",
   "execution_count": 24,
   "id": "80af5a19-3d05-43d2-855b-e332868b27ab",
   "metadata": {},
   "outputs": [
    {
     "name": "stdout",
     "output_type": "stream",
     "text": [
      "55\n"
     ]
    }
   ],
   "source": [
    "i=1\n",
    "add2 = 0\n",
    "while i <= 10:\n",
    "    add2 = add2 + i\n",
    "    i = i + 1\n",
    "print(add2)    "
   ]
  },
  {
   "cell_type": "code",
   "execution_count": 26,
   "id": "cdcac9b0-1fd8-498d-a9b4-6df3db0aad0c",
   "metadata": {},
   "outputs": [
    {
     "name": "stdout",
     "output_type": "stream",
     "text": [
      "3628800\n"
     ]
    }
   ],
   "source": [
    "i=1\n",
    "product2 = 1\n",
    "while i <= 10:\n",
    "    product2 = product2 * i\n",
    "    i = i + 1\n",
    "print(product2) "
   ]
  },
  {
   "cell_type": "markdown",
   "id": "9588e5b7-ac7e-4f9e-9085-8d4518ca1e94",
   "metadata": {},
   "source": [
    "Question 3"
   ]
  },
  {
   "cell_type": "code",
   "execution_count": 14,
   "id": "bd1160f5-c840-495f-a26d-ee31252f3fd6",
   "metadata": {},
   "outputs": [
    {
     "name": "stdin",
     "output_type": "stream",
     "text": [
      "Units of electricity used 310\n"
     ]
    },
    {
     "name": "stdout",
     "output_type": "stream",
     "text": [
      "2250\n"
     ]
    }
   ],
   "source": [
    "unit = int(input(\"Units of electricity used\"))\n",
    "if unit <= 100:\n",
    "    bill = unit * 4.5\n",
    "elif unit <= 200:\n",
    "    bill = 450 + (unit-100)*6\n",
    "elif unit <= 300:    \n",
    "    bill = 1050 + (unit-200)*10\n",
    "elif unit > 300:\n",
    "    bill = 450 + 600 + 1000 + (unit-300)*20\n",
    "print(bill)    \t"
   ]
  },
  {
   "cell_type": "markdown",
   "id": "a0bad4b0-9f93-436c-b758-65e3ff4d812b",
   "metadata": {},
   "source": [
    "Question 4"
   ]
  },
  {
   "cell_type": "code",
   "execution_count": 39,
   "id": "c2186515-7777-4a1f-ad58-3d34e6d2b1f9",
   "metadata": {},
   "outputs": [
    {
     "data": {
      "text/plain": [
       "[8,\n",
       " 64,\n",
       " 125,\n",
       " 216,\n",
       " 512,\n",
       " 1000,\n",
       " 1728,\n",
       " 2744,\n",
       " 3375,\n",
       " 4096,\n",
       " 5832,\n",
       " 8000,\n",
       " 10648,\n",
       " 13824,\n",
       " 15625,\n",
       " 17576,\n",
       " 21952,\n",
       " 27000,\n",
       " 32768,\n",
       " 39304,\n",
       " 42875,\n",
       " 46656,\n",
       " 54872,\n",
       " 64000,\n",
       " 74088,\n",
       " 85184,\n",
       " 91125,\n",
       " 97336,\n",
       " 110592,\n",
       " 125000,\n",
       " 140608,\n",
       " 157464,\n",
       " 166375,\n",
       " 175616,\n",
       " 195112,\n",
       " 216000,\n",
       " 238328,\n",
       " 262144,\n",
       " 274625,\n",
       " 287496,\n",
       " 314432,\n",
       " 343000,\n",
       " 373248,\n",
       " 405224,\n",
       " 421875,\n",
       " 438976,\n",
       " 474552,\n",
       " 512000,\n",
       " 551368,\n",
       " 592704,\n",
       " 614125,\n",
       " 636056,\n",
       " 681472,\n",
       " 729000,\n",
       " 778688,\n",
       " 830584,\n",
       " 857375,\n",
       " 884736,\n",
       " 941192,\n",
       " 1000000]"
      ]
     },
     "execution_count": 39,
     "metadata": {},
     "output_type": "execute_result"
    }
   ],
   "source": [
    "s1 = list(range(1,101))\n",
    "l=[]\n",
    "for i in s1:\n",
    "    i = i**3\n",
    "    if i%5 == 0 or i%4 == 0:\n",
    "        l.append(i)\n",
    "l  "
   ]
  },
  {
   "cell_type": "markdown",
   "id": "c79707af-6917-437d-922e-273c354ff916",
   "metadata": {},
   "source": [
    "Question 5"
   ]
  },
  {
   "cell_type": "code",
   "execution_count": 38,
   "id": "187c1f42-4aba-4dc8-b80f-0faf3279b9d8",
   "metadata": {},
   "outputs": [
    {
     "data": {
      "text/plain": [
       "12"
      ]
     },
     "execution_count": 38,
     "metadata": {},
     "output_type": "execute_result"
    }
   ],
   "source": [
    "string = \"I want to become a data scientist.\"\n",
    "l1=[]\n",
    "for i in string:\n",
    "    if i == \"a\" or i == \"e\" or i == \"i\" or i == \"o\" or i == \"u\" or i == \"A\" or i == \"E\" or i == \"I\" or i == \"O\" or i == \"U\":\n",
    "        l1.append(i)\n",
    "vowel_count = len(l1)\n",
    "vowel_count"
   ]
  }
 ],
 "metadata": {
  "kernelspec": {
   "display_name": "Python 3 (ipykernel)",
   "language": "python",
   "name": "python3"
  },
  "language_info": {
   "codemirror_mode": {
    "name": "ipython",
    "version": 3
   },
   "file_extension": ".py",
   "mimetype": "text/x-python",
   "name": "python",
   "nbconvert_exporter": "python",
   "pygments_lexer": "ipython3",
   "version": "3.10.8"
  }
 },
 "nbformat": 4,
 "nbformat_minor": 5
}
