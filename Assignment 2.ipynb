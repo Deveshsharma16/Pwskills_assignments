{
 "cells": [
  {
   "cell_type": "markdown",
   "id": "c565d19e-9725-4343-8f3c-38b482836c5d",
   "metadata": {},
   "source": [
    "Question 1"
   ]
  },
  {
   "cell_type": "code",
   "execution_count": 1,
   "id": "435f74fc-0511-4b52-bd20-cded86e3299c",
   "metadata": {},
   "outputs": [
    {
     "data": {
      "text/plain": [
       "[1, 3, 5, 7, 9, 11, 13, 15, 17, 19, 21, 23, 25]"
      ]
     },
     "execution_count": 1,
     "metadata": {},
     "output_type": "execute_result"
    }
   ],
   "source": [
    "\"\"\"def is the keyword is used to create a function.\"\"\"\n",
    "def odd_numbers(n):\n",
    "    return [x for x in range(n + 1) if x % 2 == 1]\n",
    "odd_numbers(25)"
   ]
  },
  {
   "cell_type": "markdown",
   "id": "2f8b4285-922b-4a73-bcfb-4adcfd6e232b",
   "metadata": {},
   "source": [
    "Question 2"
   ]
  },
  {
   "cell_type": "code",
   "execution_count": 2,
   "id": "34254ad0-8e71-401c-8459-7aa143de984f",
   "metadata": {},
   "outputs": [
    {
     "data": {
      "text/plain": [
       "(1, 2, 3, 4, 'dev', 'sharma', [1, 2, 3, 4, 5])"
      ]
     },
     "execution_count": 2,
     "metadata": {},
     "output_type": "execute_result"
    }
   ],
   "source": [
    "\"\"\"*args=It returns the n no. of arguments given by the user.\"\"\"\n",
    "def test(*args):\n",
    "    return args\n",
    "test(1,2,3,4,\"dev\",\"sharma\",[1,2,3,4,5])"
   ]
  },
  {
   "cell_type": "code",
   "execution_count": 3,
   "id": "cbc08daa-15c6-4764-8b2a-1f7724a4f7ea",
   "metadata": {},
   "outputs": [
    {
     "data": {
      "text/plain": [
       "{'a': [1, 2, 3, 4], 'b': 'dev', 'c': 34.56}"
      ]
     },
     "execution_count": 3,
     "metadata": {},
     "output_type": "execute_result"
    }
   ],
   "source": [
    "\"\"\"**kwargs=It returns the suitable input in the form of dictionary.\"\"\"\n",
    "def test5(**kwargs):\n",
    "    return kwargs\n",
    "test5(a=[1,2,3,4],b=\"dev\",c=34.56)"
   ]
  },
  {
   "cell_type": "markdown",
   "id": "fbca6dc5-5783-4277-b00c-76f0195b3fda",
   "metadata": {},
   "source": [
    "Question 3"
   ]
  },
  {
   "cell_type": "code",
   "execution_count": 4,
   "id": "9f71c630-9eda-41ca-b7b8-3ee7d6b74bc3",
   "metadata": {},
   "outputs": [
    {
     "name": "stdout",
     "output_type": "stream",
     "text": [
      "2\n"
     ]
    }
   ],
   "source": [
    "\"\"\"An iterator in Python is an object that is used to iterate over iterable objects like lists, tuples,\n",
    "dicts, and sets. The Python iterators object is initialized using the iter() method. It uses the next()\n",
    "method for iteration. __next__(): The next method returns the next value for the iterable.\"\"\"\n",
    "l = [2, 4, 6, 8, 10, 12, 14, 16, 18, 20]\n",
    "iterator = iter(l)\n",
    "print(next(iterator))"
   ]
  },
  {
   "cell_type": "code",
   "execution_count": 5,
   "id": "b04e3a29-24d8-4297-9d41-65488b2e3adc",
   "metadata": {},
   "outputs": [
    {
     "name": "stdout",
     "output_type": "stream",
     "text": [
      "4\n"
     ]
    }
   ],
   "source": [
    "print(next(iterator))"
   ]
  },
  {
   "cell_type": "code",
   "execution_count": 6,
   "id": "bc2c3627-8130-41f5-8082-f4da51b858ff",
   "metadata": {},
   "outputs": [
    {
     "name": "stdout",
     "output_type": "stream",
     "text": [
      "6\n"
     ]
    }
   ],
   "source": [
    "print(next(iterator))"
   ]
  },
  {
   "cell_type": "code",
   "execution_count": 7,
   "id": "290af900-e169-4ace-b021-3bb454bbb4d5",
   "metadata": {},
   "outputs": [
    {
     "name": "stdout",
     "output_type": "stream",
     "text": [
      "8\n"
     ]
    }
   ],
   "source": [
    "print(next(iterator))"
   ]
  },
  {
   "cell_type": "code",
   "execution_count": 8,
   "id": "4aee4972-d7b2-4532-8592-a0aefe3675b8",
   "metadata": {},
   "outputs": [
    {
     "name": "stdout",
     "output_type": "stream",
     "text": [
      "10\n"
     ]
    }
   ],
   "source": [
    "print(next(iterator))"
   ]
  },
  {
   "cell_type": "markdown",
   "id": "b49230ec-4cbb-4698-b55d-99bca1329d79",
   "metadata": {},
   "source": [
    "Question 4"
   ]
  },
  {
   "cell_type": "code",
   "execution_count": 9,
   "id": "21fb1db2-cdbf-4b4c-b536-5c14e4a8d1bf",
   "metadata": {},
   "outputs": [],
   "source": [
    "\"\"\"A type of function that is memory efficient and can be used like an iterator object. Yield keyword is used to create a\n",
    "generator function. In layman terms, the yield keyword gives the output one by one thus not storing all values in at once.\"\"\"\n",
    "def test_fib(n):\n",
    "    a,b=0,1\n",
    "    for i in range(n):\n",
    "        yield a      \n",
    "        a,b = b, a+b"
   ]
  },
  {
   "cell_type": "code",
   "execution_count": 10,
   "id": "190bd845-764f-4f27-8274-e77c33f70f4b",
   "metadata": {},
   "outputs": [
    {
     "name": "stdout",
     "output_type": "stream",
     "text": [
      "0\n",
      "1\n",
      "1\n",
      "2\n",
      "3\n",
      "5\n",
      "8\n",
      "13\n",
      "21\n",
      "34\n"
     ]
    }
   ],
   "source": [
    "for i in test_fib(10):\n",
    "    print(i)"
   ]
  },
  {
   "cell_type": "markdown",
   "id": "a2b32fc2-1587-4110-9fdb-9ca9c942a027",
   "metadata": {},
   "source": [
    "Question 5"
   ]
  },
  {
   "cell_type": "code",
   "execution_count": 2,
   "id": "afc257d0-089b-422a-b821-6afad97e8abc",
   "metadata": {},
   "outputs": [],
   "source": [
    "def prime_numbers(n):\n",
    "    for a in range(2, n + 1):\n",
    "        for j in range(2, a):\n",
    "            if (a % j) == 0:\n",
    "                break\n",
    "            else:\n",
    "                 yield a\n",
    "   "
   ]
  },
  {
   "cell_type": "code",
   "execution_count": 3,
   "id": "7f74d303-9bc1-4d2c-9529-303ffd784ad5",
   "metadata": {},
   "outputs": [],
   "source": [
    "l1 = []\n",
    "for i in prime_numbers(1000):\n",
    "    l1.append(i)\n",
    "k = set(l1)"
   ]
  },
  {
   "cell_type": "code",
   "execution_count": 4,
   "id": "ed361246-846e-4ac6-986d-6155f27b043d",
   "metadata": {},
   "outputs": [],
   "source": [
    "l2 = []\n",
    "for i in k:\n",
    "    l2.append(i)\n",
    "p = iter(l2)    "
   ]
  },
  {
   "cell_type": "code",
   "execution_count": 5,
   "id": "acf61493-60c2-48b0-8415-050192dc9726",
   "metadata": {},
   "outputs": [
    {
     "name": "stdout",
     "output_type": "stream",
     "text": [
      "3\n"
     ]
    }
   ],
   "source": [
    "print(next(p))"
   ]
  },
  {
   "cell_type": "code",
   "execution_count": 6,
   "id": "5f398900-44f9-4786-9177-437ce789bebd",
   "metadata": {},
   "outputs": [
    {
     "name": "stdout",
     "output_type": "stream",
     "text": [
      "5\n"
     ]
    }
   ],
   "source": [
    "print(next(p))"
   ]
  },
  {
   "cell_type": "code",
   "execution_count": 7,
   "id": "02b78994-d153-49e1-bbe8-4497c2585d90",
   "metadata": {},
   "outputs": [
    {
     "name": "stdout",
     "output_type": "stream",
     "text": [
      "7\n"
     ]
    }
   ],
   "source": [
    "print(next(p))"
   ]
  },
  {
   "cell_type": "code",
   "execution_count": 8,
   "id": "e5865af7-19d3-4429-a6d5-86c2ead70533",
   "metadata": {},
   "outputs": [
    {
     "name": "stdout",
     "output_type": "stream",
     "text": [
      "9\n"
     ]
    }
   ],
   "source": [
    "print(next(p))"
   ]
  },
  {
   "cell_type": "code",
   "execution_count": 9,
   "id": "8541dc1b-4156-497b-a26d-41b8dcafd450",
   "metadata": {},
   "outputs": [
    {
     "name": "stdout",
     "output_type": "stream",
     "text": [
      "11\n"
     ]
    }
   ],
   "source": [
    "print(next(p))"
   ]
  },
  {
   "cell_type": "code",
   "execution_count": 10,
   "id": "bfd6ad1c-5dc3-4924-ac77-0bc07bf32df0",
   "metadata": {},
   "outputs": [
    {
     "name": "stdout",
     "output_type": "stream",
     "text": [
      "13\n"
     ]
    }
   ],
   "source": [
    "print(next(p))"
   ]
  },
  {
   "cell_type": "code",
   "execution_count": 11,
   "id": "6b6730d7-5be2-474b-bb44-1c9873fe1b95",
   "metadata": {},
   "outputs": [
    {
     "name": "stdout",
     "output_type": "stream",
     "text": [
      "15\n"
     ]
    }
   ],
   "source": [
    "print(next(p))"
   ]
  },
  {
   "cell_type": "code",
   "execution_count": 12,
   "id": "13a905c2-f974-4fbf-810c-c51d64924cc4",
   "metadata": {},
   "outputs": [
    {
     "name": "stdout",
     "output_type": "stream",
     "text": [
      "17\n"
     ]
    }
   ],
   "source": [
    "print(next(p))"
   ]
  },
  {
   "cell_type": "code",
   "execution_count": 13,
   "id": "fb32ff84-9d4f-40d3-8a61-a20fcbcd092a",
   "metadata": {},
   "outputs": [
    {
     "name": "stdout",
     "output_type": "stream",
     "text": [
      "19\n"
     ]
    }
   ],
   "source": [
    "print(next(p))"
   ]
  },
  {
   "cell_type": "code",
   "execution_count": 14,
   "id": "975609ea-e089-4697-811b-38897f6cde37",
   "metadata": {},
   "outputs": [
    {
     "name": "stdout",
     "output_type": "stream",
     "text": [
      "21\n"
     ]
    }
   ],
   "source": [
    "print(next(p))   #so on we can make as many prime numbers."
   ]
  },
  {
   "cell_type": "markdown",
   "id": "067b19f4-0832-4341-9814-196ade1d50a1",
   "metadata": {},
   "source": [
    "Question 6"
   ]
  },
  {
   "cell_type": "code",
   "execution_count": 18,
   "id": "2a8500b2-411b-4461-b9bc-05378712a450",
   "metadata": {},
   "outputs": [
    {
     "name": "stdout",
     "output_type": "stream",
     "text": [
      "0\n",
      "1\n",
      "1\n",
      "2\n",
      "3\n",
      "5\n",
      "8\n",
      "13\n",
      "21\n",
      "34\n"
     ]
    }
   ],
   "source": [
    "n = 9\n",
    "a,b=0,1\n",
    "print(0)\n",
    "while n > 0:\n",
    "    a,b = b, a+b\n",
    "    n = n-1\n",
    "    print(a)"
   ]
  },
  {
   "cell_type": "markdown",
   "id": "0ccd1d4d-4cb7-4f87-9d8d-bae2124e73b4",
   "metadata": {},
   "source": [
    "Question 7"
   ]
  },
  {
   "cell_type": "code",
   "execution_count": 21,
   "id": "92171ede-deff-4067-98ae-a84e0300ce2b",
   "metadata": {},
   "outputs": [
    {
     "name": "stdout",
     "output_type": "stream",
     "text": [
      "['p', 'w', 's', 'k', 'i', 'l', 'l', 's']\n"
     ]
    }
   ],
   "source": [
    "s = \"pwskills\"\n",
    "l = [x for x in s]\n",
    "print(l)"
   ]
  },
  {
   "cell_type": "markdown",
   "id": "04c7edc9-83bb-462f-bcc2-eb042c116bca",
   "metadata": {},
   "source": [
    "Question 8"
   ]
  },
  {
   "cell_type": "code",
   "execution_count": 20,
   "id": "8b289372-37b8-4568-ab47-761c3fce58a8",
   "metadata": {},
   "outputs": [
    {
     "name": "stdin",
     "output_type": "stream",
     "text": [
      "enter number for reversal 12321\n"
     ]
    },
    {
     "name": "stdout",
     "output_type": "stream",
     "text": [
      "number is palindrome\n"
     ]
    }
   ],
   "source": [
    "num = input(\"enter number for reversal\")\n",
    "r = \"\"\n",
    "l = len(num)\n",
    "while l > 0:\n",
    "    r = r + num[l-1]\n",
    "    l = l-1\n",
    "if num == r:\n",
    "    print('number is palindrome')\n",
    "else:\n",
    "    print('number is not palindrome')"
   ]
  },
  {
   "cell_type": "markdown",
   "id": "aa6e3787-b15e-4744-b8ce-4435321c28ad",
   "metadata": {},
   "source": [
    "Question 9"
   ]
  },
  {
   "cell_type": "code",
   "execution_count": 29,
   "id": "a79f21df-4dc6-4ac4-8619-a9c0604deac4",
   "metadata": {},
   "outputs": [
    {
     "name": "stdout",
     "output_type": "stream",
     "text": [
      "[1, 3, 5, 7, 9, 11, 13, 15, 17, 19, 21, 23, 25, 27, 29, 31, 33, 35, 37, 39, 41, 43, 45, 47, 49, 51, 53, 55, 57, 59, 61, 63, 65, 67, 69, 71, 73, 75, 77, 79, 81, 83, 85, 87, 89, 91, 93, 95, 97, 99]\n"
     ]
    }
   ],
   "source": [
    "r = range(1,101)\n",
    "l = [x for x in r if x % 2 != 0]\n",
    "print(l)"
   ]
  }
 ],
 "metadata": {
  "kernelspec": {
   "display_name": "Python 3 (ipykernel)",
   "language": "python",
   "name": "python3"
  },
  "language_info": {
   "codemirror_mode": {
    "name": "ipython",
    "version": 3
   },
   "file_extension": ".py",
   "mimetype": "text/x-python",
   "name": "python",
   "nbconvert_exporter": "python",
   "pygments_lexer": "ipython3",
   "version": "3.10.8"
  }
 },
 "nbformat": 4,
 "nbformat_minor": 5
}
